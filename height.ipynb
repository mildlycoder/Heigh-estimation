{
 "cells": [
  {
   "cell_type": "code",
   "execution_count": 2,
   "metadata": {},
   "outputs": [
    {
     "name": "stdout",
     "output_type": "stream",
     "text": [
      "Defaulting to user installation because normal site-packages is not writeable\n",
      "Collecting opencv-python\n",
      "  Downloading opencv_python-4.9.0.80-cp37-abi3-manylinux_2_17_x86_64.manylinux2014_x86_64.whl (62.2 MB)\n",
      "\u001b[2K     \u001b[38;2;114;156;31m━━━━━━━━━━━━━━━━━━━━━━━━━━━━━━━━━━━━━━━━\u001b[0m \u001b[32m62.2/62.2 MB\u001b[0m \u001b[31m5.1 MB/s\u001b[0m eta \u001b[36m0:00:00\u001b[0mm eta \u001b[36m0:00:01\u001b[0m[36m0:00:01\u001b[0m\n",
      "\u001b[?25hRequirement already satisfied: numpy>=1.17.0 in /home/pranav/.local/lib/python3.10/site-packages (from opencv-python) (1.25.2)\n",
      "Installing collected packages: opencv-python\n",
      "Successfully installed opencv-python-4.9.0.80\n",
      "Note: you may need to restart the kernel to use updated packages.\n"
     ]
    }
   ],
   "source": [
    "pip install opencv-python"
   ]
  },
  {
   "cell_type": "code",
   "execution_count": 26,
   "metadata": {},
   "outputs": [
    {
     "name": "stdout",
     "output_type": "stream",
     "text": [
      "Estimated height of the person: 0.5125757575757576 meters\n"
     ]
    }
   ],
   "source": [
    "import cv2\n",
    "import numpy as np\n",
    "\n",
    "def calculate_height(image_path, object_height_pixels, object_height_real_world):\n",
    "    # Load the image\n",
    "    image = cv2.imread(image_path)\n",
    "    \n",
    "    # Convert image to grayscale\n",
    "    gray = cv2.cvtColor(image, cv2.COLOR_BGR2GRAY)\n",
    "    \n",
    "    # Detect edges in the image\n",
    "    edges = cv2.Canny(gray, 50, 150)\n",
    "    \n",
    "    # Find contours in the edged image\n",
    "    contours, _ = cv2.findContours(edges.copy(), cv2.RETR_EXTERNAL, cv2.CHAIN_APPROX_SIMPLE)\n",
    "    \n",
    "    # Assuming the person is the largest contour\n",
    "    contour = max(contours, key=cv2.contourArea)\n",
    "    \n",
    "    # Calculate the bounding box of the contour\n",
    "    x, y, w, h = cv2.boundingRect(contour)\n",
    "    \n",
    "    # Calculate the height of the person in the image\n",
    "    person_height_pixels = h\n",
    "    \n",
    "    # Calculate the height of the person in real-world units\n",
    "    person_height_real_world = (object_height_real_world * person_height_pixels) / object_height_pixels\n",
    "    \n",
    "    return person_height_real_world\n",
    "\n",
    "if __name__ == \"__main__\":\n",
    "    # Path to the image\n",
    "    image_path = \"/home/pranav/school-projects/height-estimation/p1.jpeg\"\n",
    "    \n",
    "    # Height of an object in the image whose real-world height is known (e.g., a door, chair, etc.)\n",
    "    object_height_pixels = 660 # Example: The height of the object in pixels\n",
    "    \n",
    "    # Real-world height of the object in meters\n",
    "    object_height_real_world = 1.8  # Example: The real-world height of the object in meters\n",
    "    \n",
    "    # Calculate the height of the person in the image\n",
    "    estimated_height = calculate_height(image_path, object_height_pixels, object_height_real_world)\n",
    "    \n",
    "    print(\"Estimated height of the person:\", estimated_height, \"meters\")\n",
    "\n"
   ]
  }
 ],
 "metadata": {
  "kernelspec": {
   "display_name": "Python 3",
   "language": "python",
   "name": "python3"
  },
  "language_info": {
   "codemirror_mode": {
    "name": "ipython",
    "version": 3
   },
   "file_extension": ".py",
   "mimetype": "text/x-python",
   "name": "python",
   "nbconvert_exporter": "python",
   "pygments_lexer": "ipython3",
   "version": "3.10.12"
  }
 },
 "nbformat": 4,
 "nbformat_minor": 2
}
